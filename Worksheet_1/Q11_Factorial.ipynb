{
 "cells": [
  {
   "cell_type": "code",
   "execution_count": 31,
   "id": "44f56249",
   "metadata": {},
   "outputs": [
    {
     "name": "stdout",
     "output_type": "stream",
     "text": [
      "Enter the number:5\n",
      "Factorial of given number 5 is 120\n"
     ]
    }
   ],
   "source": [
    "#import neccessary library\n",
    "import numpy as np\n",
    "import pandas as pd\n",
    "num = int(input('Enter the number:'))\n",
    "factorial = 1\n",
    "if (num == 0):\n",
    "    print(f\"Factorial of given number\",num,'is 1')\n",
    "else :\n",
    "    for i in range(1,num+1):\n",
    "        factorial*=i      \n",
    "    print(\"Factorial of given number\", num,'is',factorial)"
   ]
  }
 ],
 "metadata": {
  "kernelspec": {
   "display_name": "Python 3 (ipykernel)",
   "language": "python",
   "name": "python3"
  },
  "language_info": {
   "codemirror_mode": {
    "name": "ipython",
    "version": 3
   },
   "file_extension": ".py",
   "mimetype": "text/x-python",
   "name": "python",
   "nbconvert_exporter": "python",
   "pygments_lexer": "ipython3",
   "version": "3.9.13"
  }
 },
 "nbformat": 4,
 "nbformat_minor": 5
}

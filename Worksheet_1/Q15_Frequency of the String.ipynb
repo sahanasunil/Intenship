{
 "cells": [
  {
   "cell_type": "code",
   "execution_count": 3,
   "id": "74fbdebe",
   "metadata": {},
   "outputs": [
    {
     "name": "stdout",
     "output_type": "stream",
     "text": [
      "Enter the string harshara\n",
      "The frequency of the given string:\n",
      " Counter({'a': 3, 'h': 2, 'r': 2, 's': 1})\n"
     ]
    }
   ],
   "source": [
    "from collections import Counter\n",
    "text = input(\"Enter the string \")\n",
    "\n",
    "freq = Counter(text)\n",
    "print(\"The frequency of the given string:\\n\",freq)"
   ]
  },
  {
   "cell_type": "code",
   "execution_count": null,
   "id": "a21b1c97",
   "metadata": {},
   "outputs": [],
   "source": []
  }
 ],
 "metadata": {
  "kernelspec": {
   "display_name": "Python 3 (ipykernel)",
   "language": "python",
   "name": "python3"
  },
  "language_info": {
   "codemirror_mode": {
    "name": "ipython",
    "version": 3
   },
   "file_extension": ".py",
   "mimetype": "text/x-python",
   "name": "python",
   "nbconvert_exporter": "python",
   "pygments_lexer": "ipython3",
   "version": "3.9.13"
  }
 },
 "nbformat": 4,
 "nbformat_minor": 5
}

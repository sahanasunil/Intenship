{
 "cells": [
  {
   "cell_type": "code",
   "execution_count": 3,
   "id": "39582e84",
   "metadata": {},
   "outputs": [
    {
     "name": "stdout",
     "output_type": "stream",
     "text": [
      "Enter the number :0\n",
      "The given number  0 is neither prime nor composite number\n"
     ]
    }
   ],
   "source": [
    "import numpy as np\n",
    "import pandas as pd\n",
    "\n",
    "num = int(input(\"Enter the number :\"))\n",
    "if num > 1:\n",
    "    for i in range(2,int(num/2+1)):\n",
    "        if (num % i) == 0 :\n",
    "            print (\"the given number \",num,\" is composite number\")\n",
    "            break\n",
    "    else:\n",
    "        print(\"the given number \",num,\" is prime number\")\n",
    "elif num == 0 or num ==1:\n",
    "    print (\"The given number \",num, \"is neither prime nor composite number\")"
   ]
  },
  {
   "cell_type": "code",
   "execution_count": null,
   "id": "4461bcc4",
   "metadata": {},
   "outputs": [],
   "source": []
  }
 ],
 "metadata": {
  "kernelspec": {
   "display_name": "Python 3 (ipykernel)",
   "language": "python",
   "name": "python3"
  },
  "language_info": {
   "codemirror_mode": {
    "name": "ipython",
    "version": 3
   },
   "file_extension": ".py",
   "mimetype": "text/x-python",
   "name": "python",
   "nbconvert_exporter": "python",
   "pygments_lexer": "ipython3",
   "version": "3.9.13"
  }
 },
 "nbformat": 4,
 "nbformat_minor": 5
}
